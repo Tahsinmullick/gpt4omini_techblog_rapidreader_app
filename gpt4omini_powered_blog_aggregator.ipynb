{
 "cells": [
  {
   "cell_type": "markdown",
   "id": "b7f4e9ce-6fc7-496e-b3ac-eb9c7c18c93f",
   "metadata": {},
   "source": [
    "## Rapid Read: Bite size idea of your favorite blogsite articles from top tech firms"
   ]
  },
  {
   "cell_type": "markdown",
   "id": "a740cce6-1ef5-4334-bd5d-455bb52cc6a1",
   "metadata": {},
   "source": [
    "> - A product whose value proposition is enabling quick idea of blogs one enjoys\n",
    "> - The Frontier model used for the product is a GPT-4o-mini\n",
    "> - In order to use the model effectively we will be using **In-Context** learning\n",
    "> - In particular we will be using One-Shot inference to achieve the goal"
   ]
  },
  {
   "cell_type": "markdown",
   "id": "5e67a8ed-2fff-4f86-9826-95264d8f461c",
   "metadata": {},
   "source": [
    "### Imports"
   ]
  },
  {
   "cell_type": "code",
   "execution_count": 1,
   "id": "5085d039-8788-482e-a6cc-6d5588947084",
   "metadata": {},
   "outputs": [],
   "source": [
    "# imports\n",
    "import os\n",
    "import requests\n",
    "import json\n",
    "from typing import List\n",
    "from dotenv import load_dotenv\n",
    "from bs4 import BeautifulSoup\n",
    "from IPython.display import Markdown, display, update_display\n",
    "from openai import OpenAI"
   ]
  },
  {
   "cell_type": "markdown",
   "id": "a097fa73-a9e6-4143-98ba-eb034ae16142",
   "metadata": {},
   "source": [
    "### OpenAI API Call and Model GPT-4o-mini selection"
   ]
  },
  {
   "cell_type": "code",
   "execution_count": 2,
   "id": "4378ffc6-002f-4853-84f1-f4ea445427b1",
   "metadata": {},
   "outputs": [
    {
     "name": "stdout",
     "output_type": "stream",
     "text": [
      "API key looks good so far\n"
     ]
    }
   ],
   "source": [
    "# Initialize and constants\n",
    "\n",
    "load_dotenv(override=True)\n",
    "api_key = os.getenv('OPENAI_API_KEY')\n",
    "\n",
    "if api_key and api_key.startswith('sk-proj-') and len(api_key)>10:\n",
    "    print(\"API key looks good so far\")\n",
    "else:\n",
    "    print(\"There might be a problem with your API key? Please visit the troubleshooting notebook!\")\n",
    "    \n",
    "MODEL = 'gpt-4o-mini'\n",
    "openai = OpenAI()"
   ]
  },
  {
   "cell_type": "markdown",
   "id": "b9c93292-7423-4c20-8197-d15612340f6e",
   "metadata": {},
   "source": [
    "#### Class to scrape webpages"
   ]
  },
  {
   "cell_type": "code",
   "execution_count": 3,
   "id": "8bbfa15e-f639-4ce1-bc83-4fd37cb5a714",
   "metadata": {},
   "outputs": [],
   "source": [
    "# A class to represent a Webpage\n",
    "\n",
    "# Some websites need you to use proper headers when fetching them:\n",
    "headers = {\n",
    " \"User-Agent\": \"Mozilla/5.0 (Windows NT 10.0; Win64; x64) AppleWebKit/537.36 (KHTML, like Gecko) Chrome/117.0.0.0 Safari/537.36\"\n",
    "}\n",
    "\n",
    "class Website:\n",
    "    \"\"\"\n",
    "    A utility class to represent a Website that we have scraped, now with links\n",
    "    \"\"\"\n",
    "\n",
    "    def __init__(self, url):\n",
    "        self.url = url\n",
    "        response = requests.get(url, headers=headers)\n",
    "        self.body = response.content\n",
    "        soup = BeautifulSoup(self.body, 'html.parser')\n",
    "        self.title = soup.title.string if soup.title else \"No title found\"\n",
    "        if soup.body:\n",
    "            for irrelevant in soup.body([\"script\", \"style\", \"img\", \"input\"]):\n",
    "                irrelevant.decompose()\n",
    "            self.text = soup.body.get_text(separator=\"\\n\", strip=True)\n",
    "        else:\n",
    "            self.text = \"\"\n",
    "        links = [link.get('href') for link in soup.find_all('a')] # code to gather links referred in the page\n",
    "        self.links = [link for link in links if link]\n",
    "\n",
    "    def get_contents(self): # describes what the webpage contains\n",
    "        return f\"Webpage Title:\\n{self.title}\\nWebpage Contents:\\n{self.text}\\n\\n\""
   ]
  },
  {
   "cell_type": "code",
   "execution_count": 7,
   "id": "1ab96344-0bd7-48a3-8af8-54428b07f2ae",
   "metadata": {},
   "outputs": [
    {
     "name": "stdout",
     "output_type": "stream",
     "text": [
      "Webpage Title:\n",
      "Data Science – tech-at-instacart\n",
      "Webpage Contents:\n",
      "Homepage\n",
      "Open in app\n",
      "Sign in\n",
      "Get started\n",
      "Eng\n",
      "Data Science\n",
      "Machine Learning\n",
      "Careers\n",
      "Tagged in\n",
      "Data Science\n",
      "tech-at-instacart\n",
      "Instacart Engineering\n",
      "More information\n",
      "Followers\n",
      "6.8K\n",
      "Elsewhere\n",
      "More, on Medium\n",
      "Data Science\n",
      "Monta Shen\n",
      "in\n",
      "tech-at-instacart\n",
      "Jul 24, 2024\n",
      "Data Science Spotlight: Cracking the SQL Interview at Instacart (LLM Edition)\n",
      "Read more…\n",
      "14\n",
      "1 response\n",
      "Benjamin Knight\n",
      "in\n",
      "tech-at-instacart\n",
      "Aug 10, 2022\n",
      "How Hundreds of Retailers Use the Instacart Partner Platform to Drive In-Store Efficiencies\n",
      "Read more…\n",
      "21\n",
      "1 response\n",
      "Lauren Svensson\n",
      "in\n",
      "tech-at-instacart\n",
      "Jul 26, 2022\n",
      "Building a Data-Driven company with Anahita Tafvizi, Instacart’s Vice President and Head of Data Science\n",
      "Read more…\n",
      "24\n",
      "Xiaoding Krause\n",
      "in\n",
      "tech-at-instacart\n",
      "Jun 2, 2022\n",
      "Geo-based AB Testing and Difference-in-Difference Analysis in Instacart Catalog\n",
      "Introducing the…\n",
      "Read more…\n",
      "92\n",
      "1 response\n",
      "Benjamin Knight\n",
      "in\n",
      "tech-at-instacart\n",
      "May 18, 2022\n",
      "Tooling to Find More Items, More Quickly\n",
      "How Instacart’s Fulfillment Technology group is working to\n",
      "…\n",
      "Read more…\n",
      "167\n",
      "1 response\n",
      "Jagannath Putrevu\n",
      "in\n",
      "tech-at-instacart\n",
      "Apr 6, 2021\n",
      "Don’t let the crows guide your routes\n",
      "How to improve on Haversine distance using a simple Machine…\n",
      "Read more…\n",
      "136\n",
      "2 responses\n",
      "Instacart\n",
      "in\n",
      "tech-at-instacart\n",
      "Dec 19, 2019\n",
      "The story behind an Instacart order, part 3: predicting the shop\n",
      "Read more…\n",
      "117\n",
      "Instacart\n",
      "in\n",
      "tech-at-instacart\n",
      "May 8, 2019\n",
      "The story behind an Instacart order, Part 1: building a digital catalog\n",
      "Read more…\n",
      "247\n",
      "4 responses\n",
      "Abhay Pawar\n",
      "in\n",
      "tech-at-instacart\n",
      "Dec 4, 2018\n",
      "Predicting real-time availability of 200 million grocery items in North American stores\n",
      "Read more…\n",
      "1.1K\n",
      "6 responses\n",
      "Houtao Deng\n",
      "in\n",
      "tech-at-instacart\n",
      "Aug 21, 2018\n",
      "Leveraging Elastic Demand for Forecasting\n",
      "Demand forecasting can help businesses estimate future demand and plan supply. When the…\n",
      "Read more…\n",
      "179\n",
      "2 responses\n",
      "\n",
      "\n"
     ]
    },
    {
     "data": {
      "text/plain": [
       "['https://medium.com/',\n",
       " 'https://rsci.app.link/?%24canonical_url=https%3A%2F%2Fmedium.com/tech-at-instacart%3F~feature=LoMobileNavBar&~channel=ShowCollectionHome&~stage=m2',\n",
       " 'https://medium.com/m/signin?redirect=https%3A%2F%2Ftech.instacart.com%2Ftagged%2Fdata-science&source=--------------------------nav_reg&operation=login',\n",
       " 'https://medium.com/m/signin?redirect=https%3A%2F%2Ftech.instacart.com%2Ftagged%2Fdata-science&source=--------------------------nav_reg&operation=register',\n",
       " 'https://tech.instacart.com?source=logo-lo_2e73a70c752c---587883b5d2ee',\n",
       " 'https://tech.instacart.com/tagged/software-development',\n",
       " 'https://tech.instacart.com/tagged/data-science',\n",
       " 'https://tech.instacart.com/tagged/machine-learning',\n",
       " 'https://instacart.careers/',\n",
       " 'https://tech.instacart.com',\n",
       " 'https://tech.instacart.com/about',\n",
       " 'mailto:press@instacart.com',\n",
       " 'https://twitter.com/instacart',\n",
       " '//facebook.com/instacart',\n",
       " 'https://medium.com/tag/data-science',\n",
       " 'https://tech.instacart.com/@monta.shen',\n",
       " 'https://tech.instacart.com/@monta.shen?source=---------0-----------------------',\n",
       " 'https://tech.instacart.com?source=---------0-----------------------',\n",
       " 'https://tech.instacart.com/data-science-spotlight-cracking-the-sql-interview-at-instacart-llm-edition-52d04bde474c?source=---------0-----------------------',\n",
       " 'https://tech.instacart.com/data-science-spotlight-cracking-the-sql-interview-at-instacart-llm-edition-52d04bde474c?source=---------0-----------------------',\n",
       " 'https://tech.instacart.com/data-science-spotlight-cracking-the-sql-interview-at-instacart-llm-edition-52d04bde474c?source=---------0-----------------------',\n",
       " 'https://tech.instacart.com/data-science-spotlight-cracking-the-sql-interview-at-instacart-llm-edition-52d04bde474c?source=---------0-----------------------#--responses',\n",
       " 'https://tech.instacart.com/@knight.benjamin',\n",
       " 'https://tech.instacart.com/@knight.benjamin?source=---------1-----------------------',\n",
       " 'https://tech.instacart.com?source=---------1-----------------------',\n",
       " 'https://tech.instacart.com/how-thousands-of-retailers-use-the-instacart-partner-platform-to-drive-in-store-efficiencies-e43b9b4d8c54?source=---------1-----------------------',\n",
       " 'https://tech.instacart.com/how-thousands-of-retailers-use-the-instacart-partner-platform-to-drive-in-store-efficiencies-e43b9b4d8c54?source=---------1-----------------------',\n",
       " 'https://tech.instacart.com/how-thousands-of-retailers-use-the-instacart-partner-platform-to-drive-in-store-efficiencies-e43b9b4d8c54?source=---------1-----------------------',\n",
       " 'https://tech.instacart.com/how-thousands-of-retailers-use-the-instacart-partner-platform-to-drive-in-store-efficiencies-e43b9b4d8c54?source=---------1-----------------------#--responses',\n",
       " 'https://tech.instacart.com/@Instacart.Comms',\n",
       " 'https://tech.instacart.com/@Instacart.Comms?source=---------2-----------------------',\n",
       " 'https://tech.instacart.com?source=---------2-----------------------',\n",
       " 'https://tech.instacart.com/building-a-data-driven-company-with-anahita-tafvizi-instacarts-vice-president-and-head-of-data-2e6e3252f23d?source=---------2-----------------------',\n",
       " 'https://tech.instacart.com/building-a-data-driven-company-with-anahita-tafvizi-instacarts-vice-president-and-head-of-data-2e6e3252f23d?source=---------2-----------------------',\n",
       " 'https://tech.instacart.com/building-a-data-driven-company-with-anahita-tafvizi-instacarts-vice-president-and-head-of-data-2e6e3252f23d?source=---------2-----------------------',\n",
       " 'https://tech.instacart.com/@xdzhuo',\n",
       " 'https://tech.instacart.com/@xdzhuo?source=---------3-----------------------',\n",
       " 'https://tech.instacart.com?source=---------3-----------------------',\n",
       " 'https://tech.instacart.com/geo-based-ab-testing-and-difference-in-difference-analysis-in-instacart-catalog-2ba05e744a3f?source=---------3-----------------------',\n",
       " 'https://tech.instacart.com/geo-based-ab-testing-and-difference-in-difference-analysis-in-instacart-catalog-2ba05e744a3f?source=---------3-----------------------',\n",
       " 'https://tech.instacart.com/geo-based-ab-testing-and-difference-in-difference-analysis-in-instacart-catalog-2ba05e744a3f?source=---------3-----------------------',\n",
       " 'https://tech.instacart.com/geo-based-ab-testing-and-difference-in-difference-analysis-in-instacart-catalog-2ba05e744a3f?source=---------3-----------------------#--responses',\n",
       " 'https://tech.instacart.com/@knight.benjamin',\n",
       " 'https://tech.instacart.com/@knight.benjamin?source=---------4-----------------------',\n",
       " 'https://tech.instacart.com?source=---------4-----------------------',\n",
       " 'https://tech.instacart.com/tooling-to-find-more-items-more-quickly-26ff6196e821?source=---------4-----------------------',\n",
       " 'https://tech.instacart.com/tooling-to-find-more-items-more-quickly-26ff6196e821?source=---------4-----------------------',\n",
       " 'https://tech.instacart.com/tooling-to-find-more-items-more-quickly-26ff6196e821?source=---------4-----------------------',\n",
       " 'https://tech.instacart.com/tooling-to-find-more-items-more-quickly-26ff6196e821?source=---------4-----------------------#--responses',\n",
       " 'https://tech.instacart.com/@jagannath_78667',\n",
       " 'https://tech.instacart.com/@jagannath_78667?source=---------5-----------------------',\n",
       " 'https://tech.instacart.com?source=---------5-----------------------',\n",
       " 'https://tech.instacart.com/dont-let-the-crow-guide-your-routes-f24c96daedba?source=---------5-----------------------',\n",
       " 'https://tech.instacart.com/dont-let-the-crow-guide-your-routes-f24c96daedba?source=---------5-----------------------',\n",
       " 'https://tech.instacart.com/dont-let-the-crow-guide-your-routes-f24c96daedba?source=---------5-----------------------',\n",
       " 'https://tech.instacart.com/dont-let-the-crow-guide-your-routes-f24c96daedba?source=---------5-----------------------#--responses',\n",
       " 'https://tech.instacart.com/@instacart',\n",
       " 'https://tech.instacart.com/@instacart?source=---------6-----------------------',\n",
       " 'https://tech.instacart.com?source=---------6-----------------------',\n",
       " 'https://tech.instacart.com/the-story-behind-an-instacart-order-part-3-predicting-the-shop-d1a3bb9f5d98?source=---------6-----------------------',\n",
       " 'https://tech.instacart.com/the-story-behind-an-instacart-order-part-3-predicting-the-shop-d1a3bb9f5d98?source=---------6-----------------------',\n",
       " 'https://tech.instacart.com/the-story-behind-an-instacart-order-part-3-predicting-the-shop-d1a3bb9f5d98?source=---------6-----------------------',\n",
       " 'https://tech.instacart.com/@instacart',\n",
       " 'https://tech.instacart.com/@instacart?source=---------7-----------------------',\n",
       " 'https://tech.instacart.com?source=---------7-----------------------',\n",
       " 'https://tech.instacart.com/the-story-behind-an-instacart-order-part-1-building-a-digital-catalog-46df5a8ff705?source=---------7-----------------------',\n",
       " 'https://tech.instacart.com/the-story-behind-an-instacart-order-part-1-building-a-digital-catalog-46df5a8ff705?source=---------7-----------------------',\n",
       " 'https://tech.instacart.com/the-story-behind-an-instacart-order-part-1-building-a-digital-catalog-46df5a8ff705?source=---------7-----------------------',\n",
       " 'https://tech.instacart.com/the-story-behind-an-instacart-order-part-1-building-a-digital-catalog-46df5a8ff705?source=---------7-----------------------#--responses',\n",
       " 'https://tech.instacart.com/@abhayspawar',\n",
       " 'https://tech.instacart.com/@abhayspawar?source=---------8-----------------------',\n",
       " 'https://tech.instacart.com?source=---------8-----------------------',\n",
       " 'https://tech.instacart.com/predicting-real-time-availability-of-200-million-grocery-items-in-us-canada-stores-61f43a16eafe?source=---------8-----------------------',\n",
       " 'https://tech.instacart.com/predicting-real-time-availability-of-200-million-grocery-items-in-us-canada-stores-61f43a16eafe?source=---------8-----------------------',\n",
       " 'https://tech.instacart.com/predicting-real-time-availability-of-200-million-grocery-items-in-us-canada-stores-61f43a16eafe?source=---------8-----------------------',\n",
       " 'https://tech.instacart.com/predicting-real-time-availability-of-200-million-grocery-items-in-us-canada-stores-61f43a16eafe?source=---------8-----------------------#--responses',\n",
       " 'https://tech.instacart.com/@deng',\n",
       " 'https://tech.instacart.com/@deng?source=---------9-----------------------',\n",
       " 'https://tech.instacart.com?source=---------9-----------------------',\n",
       " 'https://tech.instacart.com/leveraging-elastic-demand-for-forecasting-6278b45f805f?source=---------9-----------------------',\n",
       " 'https://tech.instacart.com/leveraging-elastic-demand-for-forecasting-6278b45f805f?source=---------9-----------------------',\n",
       " 'https://tech.instacart.com/leveraging-elastic-demand-for-forecasting-6278b45f805f?source=---------9-----------------------',\n",
       " 'https://tech.instacart.com/leveraging-elastic-demand-for-forecasting-6278b45f805f?source=---------9-----------------------#--responses']"
      ]
     },
     "execution_count": 7,
     "metadata": {},
     "output_type": "execute_result"
    }
   ],
   "source": [
    "# Testing the class \n",
    "blog = Website(\"https://tech.instacart.com/tagged/data-science\")\n",
    "\n",
    "# printing the contents scraped\n",
    "print(blog.get_contents())\n",
    "\n",
    "# printing the links scraped\n",
    "blog.links"
   ]
  },
  {
   "cell_type": "markdown",
   "id": "cf883ec2-570b-4e57-842d-70c5b14551d1",
   "metadata": {},
   "source": [
    "## Getting GPT-4o mini to extract only relevant links"
   ]
  },
  {
   "cell_type": "markdown",
   "id": "faba7da8-4222-443b-9b40-d4c319969fc2",
   "metadata": {},
   "source": [
    "> - **GPT-4o-mini** should be able to decide the relevant links and replace any relative links e.g. \"/about\"\n",
    "> - To provide **In-Context** learning we will use **One-Shot prompting** to acomplish our goal"
   ]
  },
  {
   "cell_type": "markdown",
   "id": "a2f69ac0-be70-4ea7-92d2-c3f319d16ecd",
   "metadata": {},
   "source": [
    "### Designing the **System Prompt**"
   ]
  },
  {
   "cell_type": "code",
   "execution_count": 8,
   "id": "6e314b07-679d-4912-b764-1b794fedbc66",
   "metadata": {},
   "outputs": [],
   "source": [
    "link_system_prompt = \"You are provided with a list of links found on a webpage. \\\n",
    "You are able to decide which of the links have the latest article.\\n\"\n",
    "link_system_prompt += \"You should respond in JSON as in this example:\"\n",
    "link_system_prompt += \"\"\"\n",
    "{\n",
    "    \"links\": [\n",
    "        {\"type\": \"about page\", \"url\": \"https://full.url/goes/here/about\"},\n",
    "        {\"type\": \"careers page\": \"url\": \"https://another.full.url/careers\"}\n",
    "    ]\n",
    "}\n",
    "\"\"\""
   ]
  },
  {
   "cell_type": "code",
   "execution_count": 9,
   "id": "1da60cfd-2814-41d0-bbbf-608131449473",
   "metadata": {},
   "outputs": [
    {
     "name": "stdout",
     "output_type": "stream",
     "text": [
      "You are provided with a list of links found on a webpage. You are able to decide which of the links have the latest article.\n",
      "You should respond in JSON as in this example:\n",
      "{\n",
      "    \"links\": [\n",
      "        {\"type\": \"about page\", \"url\": \"https://full.url/goes/here/about\"},\n",
      "        {\"type\": \"careers page\": \"url\": \"https://another.full.url/careers\"}\n",
      "    ]\n",
      "}\n",
      "\n"
     ]
    }
   ],
   "source": [
    "print(link_system_prompt)"
   ]
  },
  {
   "cell_type": "markdown",
   "id": "79b105b0-b0a8-42ee-85ae-f02fd82fe442",
   "metadata": {},
   "source": [
    "### Desigining the **User Prompt**"
   ]
  },
  {
   "cell_type": "code",
   "execution_count": 17,
   "id": "ceaa2bb6-c5dc-4b64-b067-9e3d57a977e8",
   "metadata": {},
   "outputs": [],
   "source": [
    "def get_links_user_prompt(website):\n",
    "    user_prompt = f\"Here is the list of links on the website of {website.url} - \"\n",
    "    user_prompt += \"please get the first article in the page, respond with the full https URL in JSON format. \\\n",
    "Do not include Terms of Service, Privacy, email links.\\n\"\n",
    "    user_prompt += \"Links (some might be relative links):\\n\"\n",
    "    user_prompt += \"\\n\".join(website.links)\n",
    "    return user_prompt"
   ]
  },
  {
   "cell_type": "code",
   "execution_count": 18,
   "id": "84c0976c-564f-4aba-aa8c-1e88b4a2390e",
   "metadata": {},
   "outputs": [
    {
     "name": "stdout",
     "output_type": "stream",
     "text": [
      "Here is the list of links on the website of https://tech.instacart.com/tagged/data-science - please get the first article in the page, respond with the full https URL in JSON format. Do not include Terms of Service, Privacy, email links.\n",
      "Links (some might be relative links):\n",
      "https://medium.com/\n",
      "https://rsci.app.link/?%24canonical_url=https%3A%2F%2Fmedium.com/tech-at-instacart%3F~feature=LoMobileNavBar&~channel=ShowCollectionHome&~stage=m2\n",
      "https://medium.com/m/signin?redirect=https%3A%2F%2Ftech.instacart.com%2Ftagged%2Fdata-science&source=--------------------------nav_reg&operation=login\n",
      "https://medium.com/m/signin?redirect=https%3A%2F%2Ftech.instacart.com%2Ftagged%2Fdata-science&source=--------------------------nav_reg&operation=register\n",
      "https://tech.instacart.com?source=logo-lo_2e73a70c752c---587883b5d2ee\n",
      "https://tech.instacart.com/tagged/software-development\n",
      "https://tech.instacart.com/tagged/data-science\n",
      "https://tech.instacart.com/tagged/machine-learning\n",
      "https://instacart.careers/\n",
      "https://tech.instacart.com\n",
      "https://tech.instacart.com/about\n",
      "mailto:press@instacart.com\n",
      "https://twitter.com/instacart\n",
      "//facebook.com/instacart\n",
      "https://medium.com/tag/data-science\n",
      "https://tech.instacart.com/@monta.shen\n",
      "https://tech.instacart.com/@monta.shen?source=---------0-----------------------\n",
      "https://tech.instacart.com?source=---------0-----------------------\n",
      "https://tech.instacart.com/data-science-spotlight-cracking-the-sql-interview-at-instacart-llm-edition-52d04bde474c?source=---------0-----------------------\n",
      "https://tech.instacart.com/data-science-spotlight-cracking-the-sql-interview-at-instacart-llm-edition-52d04bde474c?source=---------0-----------------------\n",
      "https://tech.instacart.com/data-science-spotlight-cracking-the-sql-interview-at-instacart-llm-edition-52d04bde474c?source=---------0-----------------------\n",
      "https://tech.instacart.com/data-science-spotlight-cracking-the-sql-interview-at-instacart-llm-edition-52d04bde474c?source=---------0-----------------------#--responses\n",
      "https://tech.instacart.com/@knight.benjamin\n",
      "https://tech.instacart.com/@knight.benjamin?source=---------1-----------------------\n",
      "https://tech.instacart.com?source=---------1-----------------------\n",
      "https://tech.instacart.com/how-thousands-of-retailers-use-the-instacart-partner-platform-to-drive-in-store-efficiencies-e43b9b4d8c54?source=---------1-----------------------\n",
      "https://tech.instacart.com/how-thousands-of-retailers-use-the-instacart-partner-platform-to-drive-in-store-efficiencies-e43b9b4d8c54?source=---------1-----------------------\n",
      "https://tech.instacart.com/how-thousands-of-retailers-use-the-instacart-partner-platform-to-drive-in-store-efficiencies-e43b9b4d8c54?source=---------1-----------------------\n",
      "https://tech.instacart.com/how-thousands-of-retailers-use-the-instacart-partner-platform-to-drive-in-store-efficiencies-e43b9b4d8c54?source=---------1-----------------------#--responses\n",
      "https://tech.instacart.com/@Instacart.Comms\n",
      "https://tech.instacart.com/@Instacart.Comms?source=---------2-----------------------\n",
      "https://tech.instacart.com?source=---------2-----------------------\n",
      "https://tech.instacart.com/building-a-data-driven-company-with-anahita-tafvizi-instacarts-vice-president-and-head-of-data-2e6e3252f23d?source=---------2-----------------------\n",
      "https://tech.instacart.com/building-a-data-driven-company-with-anahita-tafvizi-instacarts-vice-president-and-head-of-data-2e6e3252f23d?source=---------2-----------------------\n",
      "https://tech.instacart.com/building-a-data-driven-company-with-anahita-tafvizi-instacarts-vice-president-and-head-of-data-2e6e3252f23d?source=---------2-----------------------\n",
      "https://tech.instacart.com/@xdzhuo\n",
      "https://tech.instacart.com/@xdzhuo?source=---------3-----------------------\n",
      "https://tech.instacart.com?source=---------3-----------------------\n",
      "https://tech.instacart.com/geo-based-ab-testing-and-difference-in-difference-analysis-in-instacart-catalog-2ba05e744a3f?source=---------3-----------------------\n",
      "https://tech.instacart.com/geo-based-ab-testing-and-difference-in-difference-analysis-in-instacart-catalog-2ba05e744a3f?source=---------3-----------------------\n",
      "https://tech.instacart.com/geo-based-ab-testing-and-difference-in-difference-analysis-in-instacart-catalog-2ba05e744a3f?source=---------3-----------------------\n",
      "https://tech.instacart.com/geo-based-ab-testing-and-difference-in-difference-analysis-in-instacart-catalog-2ba05e744a3f?source=---------3-----------------------#--responses\n",
      "https://tech.instacart.com/@knight.benjamin\n",
      "https://tech.instacart.com/@knight.benjamin?source=---------4-----------------------\n",
      "https://tech.instacart.com?source=---------4-----------------------\n",
      "https://tech.instacart.com/tooling-to-find-more-items-more-quickly-26ff6196e821?source=---------4-----------------------\n",
      "https://tech.instacart.com/tooling-to-find-more-items-more-quickly-26ff6196e821?source=---------4-----------------------\n",
      "https://tech.instacart.com/tooling-to-find-more-items-more-quickly-26ff6196e821?source=---------4-----------------------\n",
      "https://tech.instacart.com/tooling-to-find-more-items-more-quickly-26ff6196e821?source=---------4-----------------------#--responses\n",
      "https://tech.instacart.com/@jagannath_78667\n",
      "https://tech.instacart.com/@jagannath_78667?source=---------5-----------------------\n",
      "https://tech.instacart.com?source=---------5-----------------------\n",
      "https://tech.instacart.com/dont-let-the-crow-guide-your-routes-f24c96daedba?source=---------5-----------------------\n",
      "https://tech.instacart.com/dont-let-the-crow-guide-your-routes-f24c96daedba?source=---------5-----------------------\n",
      "https://tech.instacart.com/dont-let-the-crow-guide-your-routes-f24c96daedba?source=---------5-----------------------\n",
      "https://tech.instacart.com/dont-let-the-crow-guide-your-routes-f24c96daedba?source=---------5-----------------------#--responses\n",
      "https://tech.instacart.com/@instacart\n",
      "https://tech.instacart.com/@instacart?source=---------6-----------------------\n",
      "https://tech.instacart.com?source=---------6-----------------------\n",
      "https://tech.instacart.com/the-story-behind-an-instacart-order-part-3-predicting-the-shop-d1a3bb9f5d98?source=---------6-----------------------\n",
      "https://tech.instacart.com/the-story-behind-an-instacart-order-part-3-predicting-the-shop-d1a3bb9f5d98?source=---------6-----------------------\n",
      "https://tech.instacart.com/the-story-behind-an-instacart-order-part-3-predicting-the-shop-d1a3bb9f5d98?source=---------6-----------------------\n",
      "https://tech.instacart.com/@instacart\n",
      "https://tech.instacart.com/@instacart?source=---------7-----------------------\n",
      "https://tech.instacart.com?source=---------7-----------------------\n",
      "https://tech.instacart.com/the-story-behind-an-instacart-order-part-1-building-a-digital-catalog-46df5a8ff705?source=---------7-----------------------\n",
      "https://tech.instacart.com/the-story-behind-an-instacart-order-part-1-building-a-digital-catalog-46df5a8ff705?source=---------7-----------------------\n",
      "https://tech.instacart.com/the-story-behind-an-instacart-order-part-1-building-a-digital-catalog-46df5a8ff705?source=---------7-----------------------\n",
      "https://tech.instacart.com/the-story-behind-an-instacart-order-part-1-building-a-digital-catalog-46df5a8ff705?source=---------7-----------------------#--responses\n",
      "https://tech.instacart.com/@abhayspawar\n",
      "https://tech.instacart.com/@abhayspawar?source=---------8-----------------------\n",
      "https://tech.instacart.com?source=---------8-----------------------\n",
      "https://tech.instacart.com/predicting-real-time-availability-of-200-million-grocery-items-in-us-canada-stores-61f43a16eafe?source=---------8-----------------------\n",
      "https://tech.instacart.com/predicting-real-time-availability-of-200-million-grocery-items-in-us-canada-stores-61f43a16eafe?source=---------8-----------------------\n",
      "https://tech.instacart.com/predicting-real-time-availability-of-200-million-grocery-items-in-us-canada-stores-61f43a16eafe?source=---------8-----------------------\n",
      "https://tech.instacart.com/predicting-real-time-availability-of-200-million-grocery-items-in-us-canada-stores-61f43a16eafe?source=---------8-----------------------#--responses\n",
      "https://tech.instacart.com/@deng\n",
      "https://tech.instacart.com/@deng?source=---------9-----------------------\n",
      "https://tech.instacart.com?source=---------9-----------------------\n",
      "https://tech.instacart.com/leveraging-elastic-demand-for-forecasting-6278b45f805f?source=---------9-----------------------\n",
      "https://tech.instacart.com/leveraging-elastic-demand-for-forecasting-6278b45f805f?source=---------9-----------------------\n",
      "https://tech.instacart.com/leveraging-elastic-demand-for-forecasting-6278b45f805f?source=---------9-----------------------\n",
      "https://tech.instacart.com/leveraging-elastic-demand-for-forecasting-6278b45f805f?source=---------9-----------------------#--responses\n"
     ]
    }
   ],
   "source": [
    "print(get_links_user_prompt(blog))"
   ]
  },
  {
   "cell_type": "markdown",
   "id": "e21b844b-ec68-41bc-a4d8-53bc5ddddec0",
   "metadata": {},
   "source": [
    "### Calling the OPENAI API to enable GPT-4o-mini"
   ]
  },
  {
   "cell_type": "code",
   "execution_count": 19,
   "id": "1f14c3e6-132a-46e1-94c2-bc3334745fdb",
   "metadata": {},
   "outputs": [],
   "source": [
    "def get_links(url):\n",
    "    website = Website(url)\n",
    "    response = openai.chat.completions.create(\n",
    "        model=MODEL,\n",
    "        messages=[\n",
    "            {\"role\": \"system\", \"content\": link_system_prompt},\n",
    "            {\"role\": \"user\", \"content\": get_links_user_prompt(website)}\n",
    "      ],\n",
    "        response_format={\"type\": \"json_object\"}\n",
    "    )\n",
    "    # we can ask the API for multiple variations of the response\n",
    "    # choices[0] gets us the one and only choice as we are restricting to one response currently\n",
    "    result = response.choices[0].message.content \n",
    "    \n",
    "    return json.loads(result)"
   ]
  },
  {
   "cell_type": "code",
   "execution_count": 20,
   "id": "8a977d3f-1555-44d4-95f5-9cffd9dd9de0",
   "metadata": {},
   "outputs": [],
   "source": [
    "instacart = Website(\"https://tech.instacart.com/tagged/data-science\")"
   ]
  },
  {
   "cell_type": "code",
   "execution_count": 21,
   "id": "656e00ae-c749-4ef0-9e78-c8b10ebc9106",
   "metadata": {},
   "outputs": [
    {
     "data": {
      "text/plain": [
       "['https://medium.com/',\n",
       " 'https://rsci.app.link/?%24canonical_url=https%3A%2F%2Fmedium.com/tech-at-instacart%3F~feature=LoMobileNavBar&~channel=ShowCollectionHome&~stage=m2',\n",
       " 'https://medium.com/m/signin?redirect=https%3A%2F%2Ftech.instacart.com%2Ftagged%2Fdata-science&source=--------------------------nav_reg&operation=login',\n",
       " 'https://medium.com/m/signin?redirect=https%3A%2F%2Ftech.instacart.com%2Ftagged%2Fdata-science&source=--------------------------nav_reg&operation=register',\n",
       " 'https://tech.instacart.com?source=logo-lo_b5356ef6b68a---587883b5d2ee',\n",
       " 'https://tech.instacart.com/tagged/software-development',\n",
       " 'https://tech.instacart.com/tagged/data-science',\n",
       " 'https://tech.instacart.com/tagged/machine-learning',\n",
       " 'https://instacart.careers/',\n",
       " 'https://tech.instacart.com',\n",
       " 'https://tech.instacart.com/about',\n",
       " 'mailto:press@instacart.com',\n",
       " 'https://twitter.com/instacart',\n",
       " '//facebook.com/instacart',\n",
       " 'https://medium.com/tag/data-science',\n",
       " 'https://tech.instacart.com/@monta.shen',\n",
       " 'https://tech.instacart.com/@monta.shen?source=---------0-----------------------',\n",
       " 'https://tech.instacart.com?source=---------0-----------------------',\n",
       " 'https://tech.instacart.com/data-science-spotlight-cracking-the-sql-interview-at-instacart-llm-edition-52d04bde474c?source=---------0-----------------------',\n",
       " 'https://tech.instacart.com/data-science-spotlight-cracking-the-sql-interview-at-instacart-llm-edition-52d04bde474c?source=---------0-----------------------',\n",
       " 'https://tech.instacart.com/data-science-spotlight-cracking-the-sql-interview-at-instacart-llm-edition-52d04bde474c?source=---------0-----------------------',\n",
       " 'https://tech.instacart.com/data-science-spotlight-cracking-the-sql-interview-at-instacart-llm-edition-52d04bde474c?source=---------0-----------------------#--responses',\n",
       " 'https://tech.instacart.com/@knight.benjamin',\n",
       " 'https://tech.instacart.com/@knight.benjamin?source=---------1-----------------------',\n",
       " 'https://tech.instacart.com?source=---------1-----------------------',\n",
       " 'https://tech.instacart.com/how-thousands-of-retailers-use-the-instacart-partner-platform-to-drive-in-store-efficiencies-e43b9b4d8c54?source=---------1-----------------------',\n",
       " 'https://tech.instacart.com/how-thousands-of-retailers-use-the-instacart-partner-platform-to-drive-in-store-efficiencies-e43b9b4d8c54?source=---------1-----------------------',\n",
       " 'https://tech.instacart.com/how-thousands-of-retailers-use-the-instacart-partner-platform-to-drive-in-store-efficiencies-e43b9b4d8c54?source=---------1-----------------------',\n",
       " 'https://tech.instacart.com/how-thousands-of-retailers-use-the-instacart-partner-platform-to-drive-in-store-efficiencies-e43b9b4d8c54?source=---------1-----------------------#--responses',\n",
       " 'https://tech.instacart.com/@Instacart.Comms',\n",
       " 'https://tech.instacart.com/@Instacart.Comms?source=---------2-----------------------',\n",
       " 'https://tech.instacart.com?source=---------2-----------------------',\n",
       " 'https://tech.instacart.com/building-a-data-driven-company-with-anahita-tafvizi-instacarts-vice-president-and-head-of-data-2e6e3252f23d?source=---------2-----------------------',\n",
       " 'https://tech.instacart.com/building-a-data-driven-company-with-anahita-tafvizi-instacarts-vice-president-and-head-of-data-2e6e3252f23d?source=---------2-----------------------',\n",
       " 'https://tech.instacart.com/building-a-data-driven-company-with-anahita-tafvizi-instacarts-vice-president-and-head-of-data-2e6e3252f23d?source=---------2-----------------------',\n",
       " 'https://tech.instacart.com/@xdzhuo',\n",
       " 'https://tech.instacart.com/@xdzhuo?source=---------3-----------------------',\n",
       " 'https://tech.instacart.com?source=---------3-----------------------',\n",
       " 'https://tech.instacart.com/geo-based-ab-testing-and-difference-in-difference-analysis-in-instacart-catalog-2ba05e744a3f?source=---------3-----------------------',\n",
       " 'https://tech.instacart.com/geo-based-ab-testing-and-difference-in-difference-analysis-in-instacart-catalog-2ba05e744a3f?source=---------3-----------------------',\n",
       " 'https://tech.instacart.com/geo-based-ab-testing-and-difference-in-difference-analysis-in-instacart-catalog-2ba05e744a3f?source=---------3-----------------------',\n",
       " 'https://tech.instacart.com/geo-based-ab-testing-and-difference-in-difference-analysis-in-instacart-catalog-2ba05e744a3f?source=---------3-----------------------#--responses',\n",
       " 'https://tech.instacart.com/@knight.benjamin',\n",
       " 'https://tech.instacart.com/@knight.benjamin?source=---------4-----------------------',\n",
       " 'https://tech.instacart.com?source=---------4-----------------------',\n",
       " 'https://tech.instacart.com/tooling-to-find-more-items-more-quickly-26ff6196e821?source=---------4-----------------------',\n",
       " 'https://tech.instacart.com/tooling-to-find-more-items-more-quickly-26ff6196e821?source=---------4-----------------------',\n",
       " 'https://tech.instacart.com/tooling-to-find-more-items-more-quickly-26ff6196e821?source=---------4-----------------------',\n",
       " 'https://tech.instacart.com/tooling-to-find-more-items-more-quickly-26ff6196e821?source=---------4-----------------------#--responses',\n",
       " 'https://tech.instacart.com/@jagannath_78667',\n",
       " 'https://tech.instacart.com/@jagannath_78667?source=---------5-----------------------',\n",
       " 'https://tech.instacart.com?source=---------5-----------------------',\n",
       " 'https://tech.instacart.com/dont-let-the-crow-guide-your-routes-f24c96daedba?source=---------5-----------------------',\n",
       " 'https://tech.instacart.com/dont-let-the-crow-guide-your-routes-f24c96daedba?source=---------5-----------------------',\n",
       " 'https://tech.instacart.com/dont-let-the-crow-guide-your-routes-f24c96daedba?source=---------5-----------------------',\n",
       " 'https://tech.instacart.com/dont-let-the-crow-guide-your-routes-f24c96daedba?source=---------5-----------------------#--responses',\n",
       " 'https://tech.instacart.com/@instacart',\n",
       " 'https://tech.instacart.com/@instacart?source=---------6-----------------------',\n",
       " 'https://tech.instacart.com?source=---------6-----------------------',\n",
       " 'https://tech.instacart.com/the-story-behind-an-instacart-order-part-3-predicting-the-shop-d1a3bb9f5d98?source=---------6-----------------------',\n",
       " 'https://tech.instacart.com/the-story-behind-an-instacart-order-part-3-predicting-the-shop-d1a3bb9f5d98?source=---------6-----------------------',\n",
       " 'https://tech.instacart.com/the-story-behind-an-instacart-order-part-3-predicting-the-shop-d1a3bb9f5d98?source=---------6-----------------------',\n",
       " 'https://tech.instacart.com/@instacart',\n",
       " 'https://tech.instacart.com/@instacart?source=---------7-----------------------',\n",
       " 'https://tech.instacart.com?source=---------7-----------------------',\n",
       " 'https://tech.instacart.com/the-story-behind-an-instacart-order-part-1-building-a-digital-catalog-46df5a8ff705?source=---------7-----------------------',\n",
       " 'https://tech.instacart.com/the-story-behind-an-instacart-order-part-1-building-a-digital-catalog-46df5a8ff705?source=---------7-----------------------',\n",
       " 'https://tech.instacart.com/the-story-behind-an-instacart-order-part-1-building-a-digital-catalog-46df5a8ff705?source=---------7-----------------------',\n",
       " 'https://tech.instacart.com/the-story-behind-an-instacart-order-part-1-building-a-digital-catalog-46df5a8ff705?source=---------7-----------------------#--responses',\n",
       " 'https://tech.instacart.com/@abhayspawar',\n",
       " 'https://tech.instacart.com/@abhayspawar?source=---------8-----------------------',\n",
       " 'https://tech.instacart.com?source=---------8-----------------------',\n",
       " 'https://tech.instacart.com/predicting-real-time-availability-of-200-million-grocery-items-in-us-canada-stores-61f43a16eafe?source=---------8-----------------------',\n",
       " 'https://tech.instacart.com/predicting-real-time-availability-of-200-million-grocery-items-in-us-canada-stores-61f43a16eafe?source=---------8-----------------------',\n",
       " 'https://tech.instacart.com/predicting-real-time-availability-of-200-million-grocery-items-in-us-canada-stores-61f43a16eafe?source=---------8-----------------------',\n",
       " 'https://tech.instacart.com/predicting-real-time-availability-of-200-million-grocery-items-in-us-canada-stores-61f43a16eafe?source=---------8-----------------------#--responses',\n",
       " 'https://tech.instacart.com/@deng',\n",
       " 'https://tech.instacart.com/@deng?source=---------9-----------------------',\n",
       " 'https://tech.instacart.com?source=---------9-----------------------',\n",
       " 'https://tech.instacart.com/leveraging-elastic-demand-for-forecasting-6278b45f805f?source=---------9-----------------------',\n",
       " 'https://tech.instacart.com/leveraging-elastic-demand-for-forecasting-6278b45f805f?source=---------9-----------------------',\n",
       " 'https://tech.instacart.com/leveraging-elastic-demand-for-forecasting-6278b45f805f?source=---------9-----------------------',\n",
       " 'https://tech.instacart.com/leveraging-elastic-demand-for-forecasting-6278b45f805f?source=---------9-----------------------#--responses']"
      ]
     },
     "execution_count": 21,
     "metadata": {},
     "output_type": "execute_result"
    }
   ],
   "source": [
    "instacart.links"
   ]
  },
  {
   "cell_type": "code",
   "execution_count": 22,
   "id": "e9ebccdb-19f4-4b47-922a-fcb71df44cdb",
   "metadata": {},
   "outputs": [
    {
     "data": {
      "text/plain": [
       "{'links': [{'type': 'latest article',\n",
       "   'url': 'https://tech.instacart.com/data-science-spotlight-cracking-the-sql-interview-at-instacart-llm-edition-52d04bde474c'}]}"
      ]
     },
     "execution_count": 22,
     "metadata": {},
     "output_type": "execute_result"
    }
   ],
   "source": [
    "get_links(\"https://tech.instacart.com/tagged/data-science\")"
   ]
  },
  {
   "cell_type": "markdown",
   "id": "0aeae446-4123-40e4-9211-a8421cf695c5",
   "metadata": {},
   "source": [
    "## Desigining the output of the latest article in a crisp 60 word summary"
   ]
  },
  {
   "cell_type": "markdown",
   "id": "ddb290a8-a598-49c3-86a8-42148ea1561d",
   "metadata": {},
   "source": [
    "### A second GPT-4o-mini prompt will be needed to collate the information "
   ]
  },
  {
   "cell_type": "code",
   "execution_count": 23,
   "id": "b9d2dd70-45d3-473e-80fd-c936add5d850",
   "metadata": {},
   "outputs": [],
   "source": [
    "def get_all_details(url):\n",
    "    result = \"Landing page:\\n\"\n",
    "    result += Website(url).get_contents()  #create website object\n",
    "    links = get_links(url) # calls the openai api\n",
    "    print(\"Found links:\", links)\n",
    "    for link in links[\"links\"]: # For each of the links use website object get each links content\n",
    "        result += f\"\\n\\n{link['type']}\\n\"\n",
    "        result += Website(link[\"url\"]).get_contents() # and add to 'result'\n",
    "    return result"
   ]
  },
  {
   "cell_type": "code",
   "execution_count": 24,
   "id": "82dca00a-0e67-4d25-b8bf-6038dde73399",
   "metadata": {},
   "outputs": [
    {
     "name": "stdout",
     "output_type": "stream",
     "text": [
      "Found links: {'links': [{'type': 'article', 'url': 'https://tech.instacart.com/data-science-spotlight-cracking-the-sql-interview-at-instacart-llm-edition-52d04bde474c?source=---------0-----------------------'}]}\n",
      "Landing page:\n",
      "Webpage Title:\n",
      "Data Science – tech-at-instacart\n",
      "Webpage Contents:\n",
      "Homepage\n",
      "Open in app\n",
      "Sign in\n",
      "Get started\n",
      "Eng\n",
      "Data Science\n",
      "Machine Learning\n",
      "Careers\n",
      "Tagged in\n",
      "Data Science\n",
      "tech-at-instacart\n",
      "Instacart Engineering\n",
      "More information\n",
      "Followers\n",
      "6.8K\n",
      "Elsewhere\n",
      "More, on Medium\n",
      "Data Science\n",
      "Monta Shen\n",
      "in\n",
      "tech-at-instacart\n",
      "Jul 24, 2024\n",
      "Data Science Spotlight: Cracking the SQL Interview at Instacart (LLM Edition)\n",
      "Read more…\n",
      "14\n",
      "1 response\n",
      "Benjamin Knight\n",
      "in\n",
      "tech-at-instacart\n",
      "Aug 10, 2022\n",
      "How Hundreds of Retailers Use the Instacart Partner Platform to Drive In-Store Efficiencies\n",
      "Read more…\n",
      "21\n",
      "1 response\n",
      "Lauren Svensson\n",
      "in\n",
      "tech-at-instacart\n",
      "Jul 26, 2022\n",
      "Building a Data-Driven company with Anahita Tafvizi, Instacart’s Vice President and Head of Data Science\n",
      "Read more…\n",
      "24\n",
      "Xiaoding Krause\n",
      "in\n",
      "tech-at-instacart\n",
      "Jun 2, 2022\n",
      "Geo-based AB Testing and Difference-in-Difference Analysis in Instacart Catalog\n",
      "Introducing the…\n",
      "Read more…\n",
      "92\n",
      "1 response\n",
      "Benjamin Knight\n",
      "in\n",
      "tech-at-instacart\n",
      "May 18, 2022\n",
      "Tooling to Find More Items, More Quickly\n",
      "How Instacart’s Fulfillment Technology group is working to\n",
      "…\n",
      "Read more…\n",
      "167\n",
      "1 response\n",
      "Jagannath Putrevu\n",
      "in\n",
      "tech-at-instacart\n",
      "Apr 6, 2021\n",
      "Don’t let the crows guide your routes\n",
      "How to improve on Haversine distance using a simple Machine…\n",
      "Read more…\n",
      "136\n",
      "2 responses\n",
      "Instacart\n",
      "in\n",
      "tech-at-instacart\n",
      "Dec 19, 2019\n",
      "The story behind an Instacart order, part 3: predicting the shop\n",
      "Read more…\n",
      "117\n",
      "Instacart\n",
      "in\n",
      "tech-at-instacart\n",
      "May 8, 2019\n",
      "The story behind an Instacart order, Part 1: building a digital catalog\n",
      "Read more…\n",
      "247\n",
      "4 responses\n",
      "Abhay Pawar\n",
      "in\n",
      "tech-at-instacart\n",
      "Dec 4, 2018\n",
      "Predicting real-time availability of 200 million grocery items in North American stores\n",
      "Read more…\n",
      "1.1K\n",
      "6 responses\n",
      "Houtao Deng\n",
      "in\n",
      "tech-at-instacart\n",
      "Aug 21, 2018\n",
      "Leveraging Elastic Demand for Forecasting\n",
      "Demand forecasting can help businesses estimate future demand and plan supply. When the…\n",
      "Read more…\n",
      "179\n",
      "2 responses\n",
      "\n",
      "\n",
      "\n",
      "article\n",
      "Webpage Title:\n",
      "Data Science Spotlight: Cracking the SQL Interview at Instacart (LLM Edition) | by Monta Shen | tech-at-instacart\n",
      "Webpage Contents:\n",
      "Open in app\n",
      "Sign up\n",
      "Sign in\n",
      "Write\n",
      "Sign up\n",
      "Sign in\n",
      "Data Science Spotlight: Cracking the SQL Interview at Instacart (LLM Edition)\n",
      "Monta Shen\n",
      "·\n",
      "Follow\n",
      "Published in\n",
      "tech-at-instacart\n",
      "·\n",
      "3 min read\n",
      "·\n",
      "Jul 24, 2024\n",
      "--\n",
      "1\n",
      "Listen\n",
      "Share\n",
      "By: Anahita Tafvizi, Michael Curran, Monta Shen\n",
      "Data Scientists at Instacart require a unique combination of skills to be successful on the job. They need to have a combination of business acumen, analytical, communication and technical skills. The Data Science interview loop tests the candidate for these skills, beginning with the Technical Screen — including a SQL interview where candidates show that they can translate business questions into code that retrieves the correct data from databases. This set of questions generally provides the candidate with a set of schemas and common business questions where they then leverage SQL to translate data into insights.\n",
      "Here’s an example of such a question:\n",
      "Using these two tables, ascertain:\n",
      "What are average ratings by day? Include only users with 5+ orders.\n",
      "Is there a relationship between order number and average ratings?\n",
      "LLM Cracks the Interview\n",
      "Before the rise in popularity of LLMs for coding use cases, Data Scientists would have to write code manually to retrieve data through databases and manipulate the data to achieve the desired insight. Now that LLMs are widely accessible, Data Scientists are able to write and edit code through natural language, saving significant amounts of time and effort.\n",
      "A more efficient way to ask and answer the above interview question would be to simply ask LLMs. An example prompt would include the schemas above, the questions and the task.\n",
      "Here are the schemas:\n",
      "<<INSERT SCHEMAS>>\n",
      "Here are the questions:\n",
      "<< INSERT QUESTIONS>>\n",
      "Here is the task:\n",
      "Write Snowflake SQL to answer the above questions.\n",
      "Here’s a truncated depiction of what might happen when we use this prompt in\n",
      "Ava\n",
      ", Instacart’s internal AI assistant powered by OpenAI and other models. Ava is able to write all the necessary SQL to answer the interview questions.\n",
      "Through a quick test of this prompt via a few popular LLMs (e.g. GPT-4o, Snowflake Arctic and Llama 3–70B), each is able to do these tasks correctly.\n",
      "Rethinking the SQL Interview at Instacart\n",
      "Having candidates write live SQL to test their ability to code is both ineffective and a poor representation of on-the-job workflows. This usually leads to questions needing to be extremely simple in order to fit a time constraint and unfairly penalizes candidates if they do not write SQL daily. Moreover, interviews that can be solved easily through a simple prompt and relevant context are not effective ways to test candidates–especially considering Instacart Data Scientists will be expected to leverage AI in their workflows.\n",
      "Given this evolution, we’re making changes to our SQL interview process to orient more around AI-forward workflows that have become best practice on our team. Now, as part of their SQL interview, Instacart Data Science candidates may be asked to:\n",
      "Translate an insight into a prompt for a SQL query\n",
      "— this tests a candidate’s ability to\n",
      "prompt engineer\n",
      "and translate a business question into an actionable data pull.\n",
      "Explain and debug a sample SQL query\n",
      "— this tests a candidate’s ability to understand and fix LLM-generated SQL outputs.\n",
      "Identify ways to make a sample SQL query more efficient\n",
      "— this tests a candidate’s deep understanding of SQL, both in writing and processing efficiently.\n",
      "This reimagined SQL interview, combined with our other technical and non-technical interviews (e.g. product sense, statistics, cross-functional partnership, analytics), will give the team a better understanding of candidate skills and allow us to continue to up-level the Data Science team at Instacart.\n",
      "For more information on the interview process and to see our open Data Science roles, please visit\n",
      "Instacart’s Careers Page\n",
      ".\n",
      "Data Science\n",
      "AI\n",
      "Instacart\n",
      "Interview\n",
      "Llm\n",
      "--\n",
      "--\n",
      "1\n",
      "Follow\n",
      "Published in\n",
      "tech-at-instacart\n",
      "6.8K Followers\n",
      "·\n",
      "Last published\n",
      "Nov 7, 2024\n",
      "Instacart Engineering\n",
      "Follow\n",
      "Follow\n",
      "Written by\n",
      "Monta Shen\n",
      "17 Followers\n",
      "·\n",
      "2 Following\n",
      "Staff Data Scientist at Instacart focused on Artificial Intelligence and Experimentation Platform | LinkedIn:\n",
      "https://www.linkedin.com/in/monta-shen-59197b66/\n",
      "Follow\n",
      "Responses (\n",
      "1\n",
      ")\n",
      "See all responses\n",
      "Help\n",
      "Status\n",
      "About\n",
      "Careers\n",
      "Press\n",
      "Blog\n",
      "Privacy\n",
      "Terms\n",
      "Text to speech\n",
      "Teams\n",
      "\n",
      "\n"
     ]
    }
   ],
   "source": [
    "print(get_all_details(\"https://tech.instacart.com/tagged/data-science\"))"
   ]
  },
  {
   "cell_type": "code",
   "execution_count": null,
   "id": "d28e9734-af8b-4db9-8528-8418fcf8cbc7",
   "metadata": {},
   "outputs": [],
   "source": [
    "system_prompt = \"You are an assistant that analyzes the first three articles of a company blog site \\\n",
    "Your job is to summarize each of the three articles in 60 words giving a concise understanding of the articles \\\n",
    "Follow each article with a Top Take for that article and a suggestion of an application the articles knowledge \\\n",
    "can be used in. Add relevant emoji to match the text\"\n",
    "\n"
   ]
  },
  {
   "cell_type": "markdown",
   "id": "50b20493-2796-415a-b848-197002c770f4",
   "metadata": {},
   "source": [
    "### Function to call the blog article summary"
   ]
  },
  {
   "cell_type": "code",
   "execution_count": null,
   "id": "23561abd-b5b4-40bf-9c34-490f31a613ea",
   "metadata": {},
   "outputs": [],
   "source": [
    "def get_blog_user_prompt(company_name, url):\n",
    "    user_prompt = f\"This blog belongs to: {company_name}\\n\"\n",
    "    user_prompt += f\"Here are the contents of its landing page and other relevant pages; use this information to build a short summary of top three articles in markdown.\\n\"\n",
    "    user_prompt += get_all_details(url)\n",
    "    user_prompt = user_prompt[:5_000] # Truncate if more than 5,000 characters\n",
    "    return user_prompt"
   ]
  },
  {
   "cell_type": "code",
   "execution_count": null,
   "id": "2aef5ce8-e821-49ba-ae1b-940685f73354",
   "metadata": {},
   "outputs": [
    {
     "name": "stdout",
     "output_type": "stream",
     "text": [
      "Found links: {'links': [{'type': 'latest article', 'url': 'https://tech.instacart.com/data-science-spotlight-cracking-the-sql-interview-at-instacart-llm-edition-52d04bde474c?source=---------0-----------------------'}]}\n"
     ]
    },
    {
     "data": {
      "text/plain": [
       "'This blog belongs to: InstaCart\\nHere are the contents of its landing page and other relevant pages; use this information to build a short summary of top three articles in markdown.\\nLanding page:\\nWebpage Title:\\nData Science – tech-at-instacart\\nWebpage Contents:\\nHomepage\\nOpen in app\\nSign in\\nGet started\\nEng\\nData Science\\nMachine Learning\\nCareers\\nTagged in\\nData Science\\ntech-at-instacart\\nInstacart Engineering\\nMore information\\nFollowers\\n6.8K\\nElsewhere\\nMore, on Medium\\nData Science\\nMonta Shen\\nin\\ntech-at-instacart\\nJul 24, 2024\\nData Science Spotlight: Cracking the SQL Interview at Instacart (LLM\\xa0Edition)\\nRead more…\\n14\\n1 response\\nBenjamin Knight\\nin\\ntech-at-instacart\\nAug 10, 2022\\nHow Hundreds of Retailers Use the Instacart Partner Platform to Drive In-Store Efficiencies\\nRead more…\\n21\\n1 response\\nLauren Svensson\\nin\\ntech-at-instacart\\nJul 26, 2022\\nBuilding a Data-Driven company with Anahita Tafvizi, Instacart’s Vice President and Head of Data\\xa0Science\\nRead more…\\n24\\nXiaoding Krause\\nin\\ntech-at-instacart\\nJun 2, 2022\\nGeo-based AB Testing and Difference-in-Difference Analysis in Instacart Catalog\\nIntroducing the…\\nRead more…\\n92\\n1 response\\nBenjamin Knight\\nin\\ntech-at-instacart\\nMay 18, 2022\\nTooling to Find More Items, More\\xa0Quickly\\nHow Instacart’s Fulfillment Technology group is working\\xa0to\\n…\\nRead more…\\n167\\n1 response\\nJagannath Putrevu\\nin\\ntech-at-instacart\\nApr 6, 2021\\nDon’t let the crows guide your\\xa0routes\\nHow to improve on Haversine distance using a simple\\xa0Machine…\\nRead more…\\n136\\n2 responses\\nInstacart\\nin\\ntech-at-instacart\\nDec 19, 2019\\nThe story behind an Instacart order, part 3: predicting the\\xa0shop\\nRead more…\\n117\\nInstacart\\nin\\ntech-at-instacart\\nMay 8, 2019\\nThe story behind an Instacart order, Part 1: building a digital\\xa0catalog\\nRead more…\\n247\\n4 responses\\nAbhay Pawar\\nin\\ntech-at-instacart\\nDec 4, 2018\\nPredicting real-time availability of 200 million grocery items in North American\\xa0stores\\nRead more…\\n1.1K\\n6 responses\\nHoutao Deng\\nin\\ntech-at-instacart\\nAug 21, 2018\\nLeveraging Elastic Demand for Forecasting\\nDemand forecasting can help businesses estimate future demand and plan supply. When the…\\nRead more…\\n179\\n2 responses\\n\\n\\n\\nlatest article\\nWebpage Title:\\nData Science Spotlight: Cracking the SQL Interview at Instacart (LLM Edition) | by Monta Shen | tech-at-instacart\\nWebpage Contents:\\nOpen in app\\nSign up\\nSign in\\nWrite\\nSign up\\nSign in\\nData Science Spotlight: Cracking the SQL Interview at Instacart (LLM Edition)\\nMonta Shen\\n·\\nFollow\\nPublished in\\ntech-at-instacart\\n·\\n3 min read\\n·\\nJul 24, 2024\\n--\\n1\\nListen\\nShare\\nBy: Anahita Tafvizi, Michael Curran, Monta Shen\\nData Scientists at Instacart require a unique combination of skills to be successful on the job. They need to have a combination of business acumen, analytical, communication and technical skills. The Data Science interview loop tests the candidate for these skills, beginning with the Technical Screen — including a SQL interview where candidates show that they can translate business questions into code that retrieves the correct data from databases. This set of questions generally provides the candidate with a set of schemas and common business questions where they then leverage SQL to translate data into insights.\\nHere’s an example of such a question:\\nUsing these two tables, ascertain:\\nWhat are average ratings by day? Include only users with 5+ orders.\\nIs there a relationship between order number and average ratings?\\nLLM Cracks the Interview\\nBefore the rise in popularity of LLMs for coding use cases, Data Scientists would have to write code manually to retrieve data through databases and manipulate the data to achieve the desired insight. Now that LLMs are widely accessible, Data Scientists are able to write and edit code through natural language, saving significant amounts of time and effort.\\nA more efficient way to ask and answer the above interview question would be to simply ask LLMs. An example prompt would include the schemas above, the questions and the task.\\nHere are the schemas:\\n<<INSERT SCHEMAS>>\\nHere are the questions:\\n<< INSERT QUESTIONS>>\\nHere is the task:\\nWrite Snowflake SQL to answer the above questions.\\nHere’s a truncated depiction of what might happen when we use this prompt in\\nAva\\n, Instacart’s internal AI assistant powered by OpenAI and other models. Ava is able to write all the necessary SQL to answer the interview questions.\\nThrough a quick test of this prompt via a few popular LLMs (e.g. GPT-4o, Snowflake Arctic and Llama 3–70B), each is able to do these tasks correctly.\\nRethinking the SQL Interview at Instacart\\nHaving candidates write live SQL to test their ability to code is both ineffective and a poor representation of on-the-job workflows. This usually leads to questions needing to be extremely simple in order to fit a time constraint and unfairly penalizes candidates if they do not write SQL daily. Moreover, interviews that can be solved easily through a simple prompt and relevant context are not effective ways to test candidates–especially considering Instacart Data Scien'"
      ]
     },
     "execution_count": 27,
     "metadata": {},
     "output_type": "execute_result"
    }
   ],
   "source": [
    "get_blog_user_prompt(\"InstaCart\", \"https://tech.instacart.com/tagged/data-science\")"
   ]
  },
  {
   "cell_type": "markdown",
   "id": "50c04ca4-8fdd-4dcc-ae4c-c6d24c9e46b0",
   "metadata": {},
   "source": [
    "### Generating the final product"
   ]
  },
  {
   "cell_type": "code",
   "execution_count": null,
   "id": "98d2c42d-7c64-49e0-956c-de4fcd055655",
   "metadata": {},
   "outputs": [],
   "source": [
    "def create_blog_summary(company_name, url):\n",
    "    response = openai.chat.completions.create(\n",
    "        model=MODEL,\n",
    "        messages=[\n",
    "            {\"role\": \"system\", \"content\": system_prompt},\n",
    "            {\"role\": \"user\", \"content\": get_brochure_user_prompt(company_name, url)}\n",
    "          ],\n",
    "    )\n",
    "    result = response.choices[0].message.content\n",
    "    display(Markdown(result))"
   ]
  },
  {
   "cell_type": "code",
   "execution_count": null,
   "id": "051ba673-cf79-4c51-8aa5-1cba722f1353",
   "metadata": {},
   "outputs": [
    {
     "name": "stdout",
     "output_type": "stream",
     "text": [
      "Found links: {'links': [{'type': 'latest article', 'url': 'https://tech.instacart.com/data-science-spotlight-cracking-the-sql-interview-at-instacart-llm-edition-52d04bde474c?source=---------0-----------------------'}]}\n"
     ]
    },
    {
     "data": {
      "text/markdown": [
       "## Article Summaries\n",
       "\n",
       "### 1. Data Science Spotlight: Cracking the SQL Interview at Instacart (LLM Edition)\n",
       "This article highlights the essential skills required for Data Scientists at Instacart, focusing on the SQL interview process. It discusses how candidates must translate business queries into SQL to derive insights and how the advent of Large Language Models (LLMs) can simplify the coding process during interviews. The text advocates for rethinking the interview methodology to better reflect real job experiences.\n",
       "\n",
       "**Top Take:** Leveraging LLMs can streamline the SQL interview process.  \n",
       "**Application:** Use LLMs during training sessions to improve programming skills and make coding more efficient. 💻\n",
       "\n",
       "---\n",
       "\n",
       "### 2. How Hundreds of Retailers Use the Instacart Partner Platform to Drive In-Store Efficiencies\n",
       "This article explores how the Instacart Partner Platform assists retailers in enhancing operational efficiencies. It discusses various tools and features that drive in-store sales and optimize inventory management, ultimately improving customer experience. By analyzing real-time data, retailers can make informed decisions, leading to increased profitability and better business practices.\n",
       "\n",
       "**Top Take:** The Instacart Platform enhances in-store efficiency and sales for retailers.  \n",
       "**Application:** Retailers can assess their own platforms using Instacart as a blueprint for optimizing operations. 🏬\n",
       "\n",
       "---\n",
       "\n",
       "### 3. Building a Data-Driven Company with Anahita Tafvizi, Instacart’s Vice President and Head of Data Science\n",
       "This article features an interview with Anahita Tafvizi, who shares insights on fostering a data-driven culture at Instacart. It emphasizes the importance of integrating data science into business strategy, encouraging collaboration between teams, and utilizing data analytics for decision-making. Tafvizi discusses real-life initiatives that demonstrate the impact of data-driven approaches on organizational growth.\n",
       "\n",
       "**Top Take:** A strong data-driven culture enhances collaboration and decision-making effectiveness.  \n",
       "**Application:** Businesses should invest in data analytics to foster better teamwork and informed strategies. 📊"
      ],
      "text/plain": [
       "<IPython.core.display.Markdown object>"
      ]
     },
     "metadata": {},
     "output_type": "display_data"
    }
   ],
   "source": [
    "create_blog_summary(\"InstaCart\", \"https://tech.instacart.com/tagged/data-science\")"
   ]
  },
  {
   "cell_type": "markdown",
   "id": "df0041ef-519a-40f6-8649-06e2c3886016",
   "metadata": {},
   "source": [
    "### Introducing typewrite animation to the prompt generation"
   ]
  },
  {
   "cell_type": "code",
   "execution_count": null,
   "id": "8f44635f-88a8-4302-9f73-8e7e35e6ada7",
   "metadata": {},
   "outputs": [],
   "source": [
    "def stream_blog_summary(company_name, url):\n",
    "    stream = openai.chat.completions.create(\n",
    "        model=MODEL,\n",
    "        messages=[\n",
    "            {\"role\": \"system\", \"content\": system_prompt},\n",
    "            {\"role\": \"user\", \"content\": get_brochure_user_prompt(company_name, url)}\n",
    "          ],\n",
    "        stream=True\n",
    "    )\n",
    "    \n",
    "    response = \"\"\n",
    "    display_handle = display(Markdown(\"\"), display_id=True)\n",
    "    for chunk in stream:\n",
    "        response += chunk.choices[0].delta.content or ''\n",
    "        response = response.replace(\"```\",\"\").replace(\"markdown\", \"\")\n",
    "        update_display(Markdown(response), display_id=display_handle.display_id)"
   ]
  },
  {
   "cell_type": "code",
   "execution_count": null,
   "id": "f96a22ec-aad4-4f6d-a866-bd25a6360b8d",
   "metadata": {},
   "outputs": [
    {
     "name": "stdout",
     "output_type": "stream",
     "text": [
      "Found links: {'links': [{'type': 'latest article', 'url': 'https://tech.instacart.com/data-science-spotlight-cracking-the-sql-interview-at-instacart-llm-edition-52d04bde474c'}]}\n"
     ]
    },
    {
     "data": {
      "text/markdown": [
       "### Article 1: Data Science Spotlight: Cracking the SQL Interview at Instacart (LLM Edition)\n",
       "\n",
       "This article discusses the evolving landscape of SQL interviews for Data Scientists at Instacart. It highlights the blend of analytical and coding skills required, explaining how candidates demonstrate their ability to translate business questions into SQL queries. The article also emphasizes the efficiency brought by Large Language Models (LLMs), which allow candidates to leverage natural language for coding tasks, improving interview outcomes.\n",
       "\n",
       "**Top Take:** LLMs can significantly streamline the SQL interview process, allowing candidates to demonstrate their skills more effectively.  \n",
       "**Application Suggestion:** Use LLMs to enhance recruitment processes, enabling candidates to showcase their abilities efficiently during technical interviews. 💻\n",
       "\n",
       "---\n",
       "\n",
       "### Article 2: How Hundreds of Retailers Use the Instacart Partner Platform to Drive In-Store Efficiencies\n",
       "\n",
       "This article outlines the functionalities and benefits of the Instacart Partner Platform for retailers aiming to increase in-store efficiencies. By integrating with Instacart, retailers leverage tools that help in inventory management, customer insights, and improved customer experiences. The collaborative approach with Instacart transforms traditional retail practices, driving greater agility and responsiveness in grocery operations.\n",
       "\n",
       "**Top Take:** Partnering with Instacart empowers retailers to enhance operational efficiency and customer engagement.  \n",
       "**Application Suggestion:** Retailers can adopt partner platforms to optimize inventory management and refine customer service strategies. 🛒\n",
       "\n",
       "---\n",
       "\n",
       "### Article 3: Building a Data-Driven Company with Anahita Tafvizi, Instacart’s Vice President and Head of Data Science\n",
       "\n",
       "In this conversation-based article, Anahita Tafvizi shares insights on fostering a data-driven culture at Instacart. She emphasizes the importance of data literacy across all levels of the company, advocating for effective data utilization in decision-making. The article also discusses strategies to develop analytical skills among team members, ensuring that data drives innovation and operational success.\n",
       "\n",
       "**Top Take:** Cultivating a data-driven culture and literacy is essential for organizational growth and innovation.  \n",
       "**Application Suggestion:** Companies should invest in training programs that enhance data literacy to improve decision-making at all levels. 📊"
      ],
      "text/plain": [
       "<IPython.core.display.Markdown object>"
      ]
     },
     "metadata": {},
     "output_type": "display_data"
    }
   ],
   "source": [
    "stream_blog_summary(\"InstaCart\", \"https://tech.instacart.com/tagged/data-science\")"
   ]
  },
  {
   "cell_type": "code",
   "execution_count": null,
   "id": "e2a80c1f-f2a0-4043-a252-c19bdc0b1b83",
   "metadata": {},
   "outputs": [],
   "source": []
  },
  {
   "cell_type": "code",
   "execution_count": null,
   "id": "12597298-9c4d-4554-a36d-79db502490cd",
   "metadata": {},
   "outputs": [],
   "source": []
  }
 ],
 "metadata": {
  "kernelspec": {
   "display_name": "Python 3 (ipykernel)",
   "language": "python",
   "name": "python3"
  },
  "language_info": {
   "codemirror_mode": {
    "name": "ipython",
    "version": 3
   },
   "file_extension": ".py",
   "mimetype": "text/x-python",
   "name": "python",
   "nbconvert_exporter": "python",
   "pygments_lexer": "ipython3",
   "version": "3.11.11"
  }
 },
 "nbformat": 4,
 "nbformat_minor": 5
}
